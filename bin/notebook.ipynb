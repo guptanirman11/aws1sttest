{
 "metadata": {
  "language_info": {
   "codemirror_mode": {
    "name": "ipython",
    "version": 3
   },
   "file_extension": ".py",
   "mimetype": "text/x-python",
   "name": "python",
   "nbconvert_exporter": "python",
   "pygments_lexer": "ipython3",
   "version": "3.8.5-final"
  },
  "orig_nbformat": 2,
  "kernelspec": {
   "name": "python3",
   "display_name": "Python 3",
   "language": "python"
  }
 },
 "nbformat": 4,
 "nbformat_minor": 2,
 "cells": [
  {
   "cell_type": "code",
   "execution_count": 3,
   "metadata": {},
   "outputs": [],
   "source": [
    "import pandas as pd\n",
    "from itertools import accumulate\n",
    "import numpy as np\n",
    "\n",
    "# csv = pd.read_csv('../files/by_subject/R_2drN1SKRi6d9QRj.csv')"
   ]
  },
  {
   "cell_type": "code",
   "execution_count": 108,
   "metadata": {},
   "outputs": [],
   "source": [
    "easy_pssc = ['801', '809', '825']\n",
    "def cond_pssc(itemnum):\n",
    "    if itemnum in easy_pssc:\n",
    "        return 6000\n",
    "    else:\n",
    "        return 5000\n",
    "\n",
    "def max_if_zero(row):\n",
    "    if row.reaction_time == 0:\n",
    "        row.reaction_time = row.maxtime\n",
    "    return row"
   ]
  },
  {
   "cell_type": "code",
   "execution_count": 133,
   "metadata": {},
   "outputs": [
    {
     "output_type": "stream",
     "name": "stdout",
     "text": [
      "Int64Index([141], dtype='int64')\nInt64Index([142, 143, 144], dtype='int64')\nInt64Index([145, 146, 147], dtype='int64')\nInt64Index([148, 149, 150], dtype='int64')\nInt64Index([151, 152, 153], dtype='int64')\nInt64Index([154, 155, 156], dtype='int64')\nInt64Index([157, 158, 159], dtype='int64')\nInt64Index([160, 161, 162], dtype='int64')\nInt64Index([163, 164, 165], dtype='int64')\nInt64Index([166, 167, 168], dtype='int64')\n"
     ]
    }
   ],
   "source": [
    "pssc = csv[csv.type == 'PSStringComparison']\n",
    "pssc['maxtime'] = pssc.item.apply(cond_pssc)\n",
    "pssc = pssc.apply(max_if_zero, axis=1)\n",
    "newframes = []\n",
    "for item in pssc.item.unique():\n",
    "    itemset = pssc[pssc.item == item]\n",
    "    newtimes = np.array(list(accumulate(itemset.reaction_time, lambda x, y: y - x)))\n",
    "    itemset.reaction_time = newtimes\n",
    "    print(itemset.index)\n",
    "    newframes.append(itemset)\n",
    "newpssc = pd.concat(newframes)"
   ]
  },
  {
   "cell_type": "code",
   "execution_count": 8,
   "metadata": {},
   "outputs": [
    {
     "output_type": "execute_result",
     "data": {
      "text/plain": [
       "[3000, 2000, 3000]"
      ]
     },
     "metadata": {},
     "execution_count": 8
    }
   ],
   "source": [
    "list(accumulate([3000, 5000, 5000], lambda x, y: y - x))"
   ]
  },
  {
   "cell_type": "code",
   "execution_count": 20,
   "metadata": {},
   "outputs": [],
   "source": [
    "z = np.array([3000, 5000, 5000])"
   ]
  },
  {
   "cell_type": "code",
   "execution_count": 21,
   "metadata": {},
   "outputs": [],
   "source": [
    "z[1:] -= z[:-1].copy()"
   ]
  },
  {
   "cell_type": "code",
   "execution_count": 22,
   "metadata": {},
   "outputs": [
    {
     "output_type": "execute_result",
     "data": {
      "text/plain": [
       "array([3000, 2000,    0])"
      ]
     },
     "metadata": {},
     "execution_count": 22
    }
   ],
   "source": [
    "z"
   ]
  },
  {
   "cell_type": "code",
   "execution_count": 125,
   "metadata": {},
   "outputs": [],
   "source": [
    "csv[csv.type == 'PSStringComparison'] = newpssc[~newpssc.index.duplicated()]"
   ]
  },
  {
   "cell_type": "code",
   "execution_count": 127,
   "metadata": {},
   "outputs": [],
   "source": [
    "csv.to_csv('test.csv')"
   ]
  },
  {
   "cell_type": "code",
   "execution_count": 126,
   "metadata": {},
   "outputs": [
    {
     "output_type": "execute_result",
     "data": {
      "text/plain": [
       "      item  reaction_time  trial                type     block   response  \\\n",
       "141  PSSCP           1755      0  PSStringComparison  practice  different   \n",
       "142    801            869      0  PSStringComparison      easy       same   \n",
       "143    801            633      1  PSStringComparison      easy       same   \n",
       "144    801           1558      2  PSStringComparison      easy  different   \n",
       "145    809           1216      0  PSStringComparison      easy  different   \n",
       "146    809            790      1  PSStringComparison      easy  different   \n",
       "147    809           2117      2  PSStringComparison      easy       same   \n",
       "148    825           2271      0  PSStringComparison      easy  different   \n",
       "149    825           1594      1  PSStringComparison      easy       same   \n",
       "150    825           3386      2  PSStringComparison      easy  different   \n",
       "151    810           1429      0  PSStringComparison    medium       same   \n",
       "152    810           1841      1  PSStringComparison    medium  different   \n",
       "153    810           2864      2  PSStringComparison    medium  different   \n",
       "154    817           1017      0  PSStringComparison    medium  different   \n",
       "155    817           1213      1  PSStringComparison    medium       same   \n",
       "156    817           1821      2  PSStringComparison    medium  different   \n",
       "157    834           1726      0  PSStringComparison    medium  different   \n",
       "158    834           1415      1  PSStringComparison    medium  different   \n",
       "159    834           3217      2  PSStringComparison    medium       same   \n",
       "160    826           2445      0  PSStringComparison      hard  different   \n",
       "161    826           1004      1  PSStringComparison      hard  different   \n",
       "162    826           3996      2  PSStringComparison      hard        NaN   \n",
       "163    833           1076      0  PSStringComparison      hard       same   \n",
       "164    833           1032      1  PSStringComparison      hard  different   \n",
       "165    833           2352      2  PSStringComparison      hard       same   \n",
       "166    841           1525      0  PSStringComparison      hard  different   \n",
       "167    841           1010      1  PSStringComparison      hard       same   \n",
       "168    841           2852      2  PSStringComparison      hard  different   \n",
       "\n",
       "        answer  score  ordering  \n",
       "141  different   True         3  \n",
       "142       same   True        23  \n",
       "143       same   True        23  \n",
       "144  different   True        23  \n",
       "145  different   True        20  \n",
       "146  different   True        20  \n",
       "147       same   True        20  \n",
       "148       same  False        10  \n",
       "149       same   True        10  \n",
       "150  different   True        10  \n",
       "151       same   True        31  \n",
       "152  different   True        31  \n",
       "153  different   True        31  \n",
       "154  different   True        36  \n",
       "155       same   True        36  \n",
       "156  different   True        36  \n",
       "157  different   True        35  \n",
       "158  different   True        35  \n",
       "159       same   True        35  \n",
       "160  different   True        46  \n",
       "161  different   True        46  \n",
       "162  different  False        46  \n",
       "163       same   True        58  \n",
       "164  different   True        58  \n",
       "165  different  False        58  \n",
       "166  different   True        54  \n",
       "167       same   True        54  \n",
       "168  different   True        54  "
      ],
      "text/html": "<div>\n<style scoped>\n    .dataframe tbody tr th:only-of-type {\n        vertical-align: middle;\n    }\n\n    .dataframe tbody tr th {\n        vertical-align: top;\n    }\n\n    .dataframe thead th {\n        text-align: right;\n    }\n</style>\n<table border=\"1\" class=\"dataframe\">\n  <thead>\n    <tr style=\"text-align: right;\">\n      <th></th>\n      <th>item</th>\n      <th>reaction_time</th>\n      <th>trial</th>\n      <th>type</th>\n      <th>block</th>\n      <th>response</th>\n      <th>answer</th>\n      <th>score</th>\n      <th>ordering</th>\n    </tr>\n  </thead>\n  <tbody>\n    <tr>\n      <th>141</th>\n      <td>PSSCP</td>\n      <td>1755</td>\n      <td>0</td>\n      <td>PSStringComparison</td>\n      <td>practice</td>\n      <td>different</td>\n      <td>different</td>\n      <td>True</td>\n      <td>3</td>\n    </tr>\n    <tr>\n      <th>142</th>\n      <td>801</td>\n      <td>869</td>\n      <td>0</td>\n      <td>PSStringComparison</td>\n      <td>easy</td>\n      <td>same</td>\n      <td>same</td>\n      <td>True</td>\n      <td>23</td>\n    </tr>\n    <tr>\n      <th>143</th>\n      <td>801</td>\n      <td>633</td>\n      <td>1</td>\n      <td>PSStringComparison</td>\n      <td>easy</td>\n      <td>same</td>\n      <td>same</td>\n      <td>True</td>\n      <td>23</td>\n    </tr>\n    <tr>\n      <th>144</th>\n      <td>801</td>\n      <td>1558</td>\n      <td>2</td>\n      <td>PSStringComparison</td>\n      <td>easy</td>\n      <td>different</td>\n      <td>different</td>\n      <td>True</td>\n      <td>23</td>\n    </tr>\n    <tr>\n      <th>145</th>\n      <td>809</td>\n      <td>1216</td>\n      <td>0</td>\n      <td>PSStringComparison</td>\n      <td>easy</td>\n      <td>different</td>\n      <td>different</td>\n      <td>True</td>\n      <td>20</td>\n    </tr>\n    <tr>\n      <th>146</th>\n      <td>809</td>\n      <td>790</td>\n      <td>1</td>\n      <td>PSStringComparison</td>\n      <td>easy</td>\n      <td>different</td>\n      <td>different</td>\n      <td>True</td>\n      <td>20</td>\n    </tr>\n    <tr>\n      <th>147</th>\n      <td>809</td>\n      <td>2117</td>\n      <td>2</td>\n      <td>PSStringComparison</td>\n      <td>easy</td>\n      <td>same</td>\n      <td>same</td>\n      <td>True</td>\n      <td>20</td>\n    </tr>\n    <tr>\n      <th>148</th>\n      <td>825</td>\n      <td>2271</td>\n      <td>0</td>\n      <td>PSStringComparison</td>\n      <td>easy</td>\n      <td>different</td>\n      <td>same</td>\n      <td>False</td>\n      <td>10</td>\n    </tr>\n    <tr>\n      <th>149</th>\n      <td>825</td>\n      <td>1594</td>\n      <td>1</td>\n      <td>PSStringComparison</td>\n      <td>easy</td>\n      <td>same</td>\n      <td>same</td>\n      <td>True</td>\n      <td>10</td>\n    </tr>\n    <tr>\n      <th>150</th>\n      <td>825</td>\n      <td>3386</td>\n      <td>2</td>\n      <td>PSStringComparison</td>\n      <td>easy</td>\n      <td>different</td>\n      <td>different</td>\n      <td>True</td>\n      <td>10</td>\n    </tr>\n    <tr>\n      <th>151</th>\n      <td>810</td>\n      <td>1429</td>\n      <td>0</td>\n      <td>PSStringComparison</td>\n      <td>medium</td>\n      <td>same</td>\n      <td>same</td>\n      <td>True</td>\n      <td>31</td>\n    </tr>\n    <tr>\n      <th>152</th>\n      <td>810</td>\n      <td>1841</td>\n      <td>1</td>\n      <td>PSStringComparison</td>\n      <td>medium</td>\n      <td>different</td>\n      <td>different</td>\n      <td>True</td>\n      <td>31</td>\n    </tr>\n    <tr>\n      <th>153</th>\n      <td>810</td>\n      <td>2864</td>\n      <td>2</td>\n      <td>PSStringComparison</td>\n      <td>medium</td>\n      <td>different</td>\n      <td>different</td>\n      <td>True</td>\n      <td>31</td>\n    </tr>\n    <tr>\n      <th>154</th>\n      <td>817</td>\n      <td>1017</td>\n      <td>0</td>\n      <td>PSStringComparison</td>\n      <td>medium</td>\n      <td>different</td>\n      <td>different</td>\n      <td>True</td>\n      <td>36</td>\n    </tr>\n    <tr>\n      <th>155</th>\n      <td>817</td>\n      <td>1213</td>\n      <td>1</td>\n      <td>PSStringComparison</td>\n      <td>medium</td>\n      <td>same</td>\n      <td>same</td>\n      <td>True</td>\n      <td>36</td>\n    </tr>\n    <tr>\n      <th>156</th>\n      <td>817</td>\n      <td>1821</td>\n      <td>2</td>\n      <td>PSStringComparison</td>\n      <td>medium</td>\n      <td>different</td>\n      <td>different</td>\n      <td>True</td>\n      <td>36</td>\n    </tr>\n    <tr>\n      <th>157</th>\n      <td>834</td>\n      <td>1726</td>\n      <td>0</td>\n      <td>PSStringComparison</td>\n      <td>medium</td>\n      <td>different</td>\n      <td>different</td>\n      <td>True</td>\n      <td>35</td>\n    </tr>\n    <tr>\n      <th>158</th>\n      <td>834</td>\n      <td>1415</td>\n      <td>1</td>\n      <td>PSStringComparison</td>\n      <td>medium</td>\n      <td>different</td>\n      <td>different</td>\n      <td>True</td>\n      <td>35</td>\n    </tr>\n    <tr>\n      <th>159</th>\n      <td>834</td>\n      <td>3217</td>\n      <td>2</td>\n      <td>PSStringComparison</td>\n      <td>medium</td>\n      <td>same</td>\n      <td>same</td>\n      <td>True</td>\n      <td>35</td>\n    </tr>\n    <tr>\n      <th>160</th>\n      <td>826</td>\n      <td>2445</td>\n      <td>0</td>\n      <td>PSStringComparison</td>\n      <td>hard</td>\n      <td>different</td>\n      <td>different</td>\n      <td>True</td>\n      <td>46</td>\n    </tr>\n    <tr>\n      <th>161</th>\n      <td>826</td>\n      <td>1004</td>\n      <td>1</td>\n      <td>PSStringComparison</td>\n      <td>hard</td>\n      <td>different</td>\n      <td>different</td>\n      <td>True</td>\n      <td>46</td>\n    </tr>\n    <tr>\n      <th>162</th>\n      <td>826</td>\n      <td>3996</td>\n      <td>2</td>\n      <td>PSStringComparison</td>\n      <td>hard</td>\n      <td>NaN</td>\n      <td>different</td>\n      <td>False</td>\n      <td>46</td>\n    </tr>\n    <tr>\n      <th>163</th>\n      <td>833</td>\n      <td>1076</td>\n      <td>0</td>\n      <td>PSStringComparison</td>\n      <td>hard</td>\n      <td>same</td>\n      <td>same</td>\n      <td>True</td>\n      <td>58</td>\n    </tr>\n    <tr>\n      <th>164</th>\n      <td>833</td>\n      <td>1032</td>\n      <td>1</td>\n      <td>PSStringComparison</td>\n      <td>hard</td>\n      <td>different</td>\n      <td>different</td>\n      <td>True</td>\n      <td>58</td>\n    </tr>\n    <tr>\n      <th>165</th>\n      <td>833</td>\n      <td>2352</td>\n      <td>2</td>\n      <td>PSStringComparison</td>\n      <td>hard</td>\n      <td>same</td>\n      <td>different</td>\n      <td>False</td>\n      <td>58</td>\n    </tr>\n    <tr>\n      <th>166</th>\n      <td>841</td>\n      <td>1525</td>\n      <td>0</td>\n      <td>PSStringComparison</td>\n      <td>hard</td>\n      <td>different</td>\n      <td>different</td>\n      <td>True</td>\n      <td>54</td>\n    </tr>\n    <tr>\n      <th>167</th>\n      <td>841</td>\n      <td>1010</td>\n      <td>1</td>\n      <td>PSStringComparison</td>\n      <td>hard</td>\n      <td>same</td>\n      <td>same</td>\n      <td>True</td>\n      <td>54</td>\n    </tr>\n    <tr>\n      <th>168</th>\n      <td>841</td>\n      <td>2852</td>\n      <td>2</td>\n      <td>PSStringComparison</td>\n      <td>hard</td>\n      <td>different</td>\n      <td>different</td>\n      <td>True</td>\n      <td>54</td>\n    </tr>\n  </tbody>\n</table>\n</div>"
     },
     "metadata": {},
     "execution_count": 126
    }
   ],
   "source": [
    "csv[csv.type=='PSStringComparison']"
   ]
  },
  {
   "cell_type": "code",
   "execution_count": 118,
   "metadata": {},
   "outputs": [
    {
     "output_type": "execute_result",
     "data": {
      "text/plain": [
       "      item  reaction_time  trial                type     block   response  \\\n",
       "141  PSSCP           1755      0  PSStringComparison  practice  different   \n",
       "142    801            869      0  PSStringComparison      easy       same   \n",
       "143    801            633      1  PSStringComparison      easy       same   \n",
       "144    801           1558      2  PSStringComparison      easy  different   \n",
       "145    809           1216      0  PSStringComparison      easy  different   \n",
       "146    809            790      1  PSStringComparison      easy  different   \n",
       "147    809           2117      2  PSStringComparison      easy       same   \n",
       "148    825           2271      0  PSStringComparison      easy  different   \n",
       "149    825           1594      1  PSStringComparison      easy       same   \n",
       "150    825           3386      2  PSStringComparison      easy  different   \n",
       "151    810           1429      0  PSStringComparison    medium       same   \n",
       "152    810           1841      1  PSStringComparison    medium  different   \n",
       "153    810           2864      2  PSStringComparison    medium  different   \n",
       "154    817           1017      0  PSStringComparison    medium  different   \n",
       "155    817           1213      1  PSStringComparison    medium       same   \n",
       "156    817           1821      2  PSStringComparison    medium  different   \n",
       "157    834           1726      0  PSStringComparison    medium  different   \n",
       "158    834           1415      1  PSStringComparison    medium  different   \n",
       "159    834           3217      2  PSStringComparison    medium       same   \n",
       "160    826           2445      0  PSStringComparison      hard  different   \n",
       "161    826           1004      1  PSStringComparison      hard  different   \n",
       "162    826           3996      2  PSStringComparison      hard        NaN   \n",
       "163    833           1076      0  PSStringComparison      hard       same   \n",
       "164    833           1032      1  PSStringComparison      hard  different   \n",
       "165    833           2352      2  PSStringComparison      hard       same   \n",
       "166    841           1525      0  PSStringComparison      hard  different   \n",
       "167    841           1010      1  PSStringComparison      hard       same   \n",
       "168    841           2852      2  PSStringComparison      hard  different   \n",
       "\n",
       "        answer  score  ordering  maxtime  \n",
       "141  different   True         3     5000  \n",
       "142       same   True        23     6000  \n",
       "143       same   True        23     6000  \n",
       "144  different   True        23     6000  \n",
       "145  different   True        20     6000  \n",
       "146  different   True        20     6000  \n",
       "147       same   True        20     6000  \n",
       "148       same  False        10     6000  \n",
       "149       same   True        10     6000  \n",
       "150  different   True        10     6000  \n",
       "151       same   True        31     5000  \n",
       "152  different   True        31     5000  \n",
       "153  different   True        31     5000  \n",
       "154  different   True        36     5000  \n",
       "155       same   True        36     5000  \n",
       "156  different   True        36     5000  \n",
       "157  different   True        35     5000  \n",
       "158  different   True        35     5000  \n",
       "159       same   True        35     5000  \n",
       "160  different   True        46     5000  \n",
       "161  different   True        46     5000  \n",
       "162  different  False        46     5000  \n",
       "163       same   True        58     5000  \n",
       "164  different   True        58     5000  \n",
       "165  different  False        58     5000  \n",
       "166  different   True        54     5000  \n",
       "167       same   True        54     5000  \n",
       "168  different   True        54     5000  "
      ],
      "text/html": "<div>\n<style scoped>\n    .dataframe tbody tr th:only-of-type {\n        vertical-align: middle;\n    }\n\n    .dataframe tbody tr th {\n        vertical-align: top;\n    }\n\n    .dataframe thead th {\n        text-align: right;\n    }\n</style>\n<table border=\"1\" class=\"dataframe\">\n  <thead>\n    <tr style=\"text-align: right;\">\n      <th></th>\n      <th>item</th>\n      <th>reaction_time</th>\n      <th>trial</th>\n      <th>type</th>\n      <th>block</th>\n      <th>response</th>\n      <th>answer</th>\n      <th>score</th>\n      <th>ordering</th>\n      <th>maxtime</th>\n    </tr>\n  </thead>\n  <tbody>\n    <tr>\n      <th>141</th>\n      <td>PSSCP</td>\n      <td>1755</td>\n      <td>0</td>\n      <td>PSStringComparison</td>\n      <td>practice</td>\n      <td>different</td>\n      <td>different</td>\n      <td>True</td>\n      <td>3</td>\n      <td>5000</td>\n    </tr>\n    <tr>\n      <th>142</th>\n      <td>801</td>\n      <td>869</td>\n      <td>0</td>\n      <td>PSStringComparison</td>\n      <td>easy</td>\n      <td>same</td>\n      <td>same</td>\n      <td>True</td>\n      <td>23</td>\n      <td>6000</td>\n    </tr>\n    <tr>\n      <th>143</th>\n      <td>801</td>\n      <td>633</td>\n      <td>1</td>\n      <td>PSStringComparison</td>\n      <td>easy</td>\n      <td>same</td>\n      <td>same</td>\n      <td>True</td>\n      <td>23</td>\n      <td>6000</td>\n    </tr>\n    <tr>\n      <th>144</th>\n      <td>801</td>\n      <td>1558</td>\n      <td>2</td>\n      <td>PSStringComparison</td>\n      <td>easy</td>\n      <td>different</td>\n      <td>different</td>\n      <td>True</td>\n      <td>23</td>\n      <td>6000</td>\n    </tr>\n    <tr>\n      <th>145</th>\n      <td>809</td>\n      <td>1216</td>\n      <td>0</td>\n      <td>PSStringComparison</td>\n      <td>easy</td>\n      <td>different</td>\n      <td>different</td>\n      <td>True</td>\n      <td>20</td>\n      <td>6000</td>\n    </tr>\n    <tr>\n      <th>146</th>\n      <td>809</td>\n      <td>790</td>\n      <td>1</td>\n      <td>PSStringComparison</td>\n      <td>easy</td>\n      <td>different</td>\n      <td>different</td>\n      <td>True</td>\n      <td>20</td>\n      <td>6000</td>\n    </tr>\n    <tr>\n      <th>147</th>\n      <td>809</td>\n      <td>2117</td>\n      <td>2</td>\n      <td>PSStringComparison</td>\n      <td>easy</td>\n      <td>same</td>\n      <td>same</td>\n      <td>True</td>\n      <td>20</td>\n      <td>6000</td>\n    </tr>\n    <tr>\n      <th>148</th>\n      <td>825</td>\n      <td>2271</td>\n      <td>0</td>\n      <td>PSStringComparison</td>\n      <td>easy</td>\n      <td>different</td>\n      <td>same</td>\n      <td>False</td>\n      <td>10</td>\n      <td>6000</td>\n    </tr>\n    <tr>\n      <th>149</th>\n      <td>825</td>\n      <td>1594</td>\n      <td>1</td>\n      <td>PSStringComparison</td>\n      <td>easy</td>\n      <td>same</td>\n      <td>same</td>\n      <td>True</td>\n      <td>10</td>\n      <td>6000</td>\n    </tr>\n    <tr>\n      <th>150</th>\n      <td>825</td>\n      <td>3386</td>\n      <td>2</td>\n      <td>PSStringComparison</td>\n      <td>easy</td>\n      <td>different</td>\n      <td>different</td>\n      <td>True</td>\n      <td>10</td>\n      <td>6000</td>\n    </tr>\n    <tr>\n      <th>151</th>\n      <td>810</td>\n      <td>1429</td>\n      <td>0</td>\n      <td>PSStringComparison</td>\n      <td>medium</td>\n      <td>same</td>\n      <td>same</td>\n      <td>True</td>\n      <td>31</td>\n      <td>5000</td>\n    </tr>\n    <tr>\n      <th>152</th>\n      <td>810</td>\n      <td>1841</td>\n      <td>1</td>\n      <td>PSStringComparison</td>\n      <td>medium</td>\n      <td>different</td>\n      <td>different</td>\n      <td>True</td>\n      <td>31</td>\n      <td>5000</td>\n    </tr>\n    <tr>\n      <th>153</th>\n      <td>810</td>\n      <td>2864</td>\n      <td>2</td>\n      <td>PSStringComparison</td>\n      <td>medium</td>\n      <td>different</td>\n      <td>different</td>\n      <td>True</td>\n      <td>31</td>\n      <td>5000</td>\n    </tr>\n    <tr>\n      <th>154</th>\n      <td>817</td>\n      <td>1017</td>\n      <td>0</td>\n      <td>PSStringComparison</td>\n      <td>medium</td>\n      <td>different</td>\n      <td>different</td>\n      <td>True</td>\n      <td>36</td>\n      <td>5000</td>\n    </tr>\n    <tr>\n      <th>155</th>\n      <td>817</td>\n      <td>1213</td>\n      <td>1</td>\n      <td>PSStringComparison</td>\n      <td>medium</td>\n      <td>same</td>\n      <td>same</td>\n      <td>True</td>\n      <td>36</td>\n      <td>5000</td>\n    </tr>\n    <tr>\n      <th>156</th>\n      <td>817</td>\n      <td>1821</td>\n      <td>2</td>\n      <td>PSStringComparison</td>\n      <td>medium</td>\n      <td>different</td>\n      <td>different</td>\n      <td>True</td>\n      <td>36</td>\n      <td>5000</td>\n    </tr>\n    <tr>\n      <th>157</th>\n      <td>834</td>\n      <td>1726</td>\n      <td>0</td>\n      <td>PSStringComparison</td>\n      <td>medium</td>\n      <td>different</td>\n      <td>different</td>\n      <td>True</td>\n      <td>35</td>\n      <td>5000</td>\n    </tr>\n    <tr>\n      <th>158</th>\n      <td>834</td>\n      <td>1415</td>\n      <td>1</td>\n      <td>PSStringComparison</td>\n      <td>medium</td>\n      <td>different</td>\n      <td>different</td>\n      <td>True</td>\n      <td>35</td>\n      <td>5000</td>\n    </tr>\n    <tr>\n      <th>159</th>\n      <td>834</td>\n      <td>3217</td>\n      <td>2</td>\n      <td>PSStringComparison</td>\n      <td>medium</td>\n      <td>same</td>\n      <td>same</td>\n      <td>True</td>\n      <td>35</td>\n      <td>5000</td>\n    </tr>\n    <tr>\n      <th>160</th>\n      <td>826</td>\n      <td>2445</td>\n      <td>0</td>\n      <td>PSStringComparison</td>\n      <td>hard</td>\n      <td>different</td>\n      <td>different</td>\n      <td>True</td>\n      <td>46</td>\n      <td>5000</td>\n    </tr>\n    <tr>\n      <th>161</th>\n      <td>826</td>\n      <td>1004</td>\n      <td>1</td>\n      <td>PSStringComparison</td>\n      <td>hard</td>\n      <td>different</td>\n      <td>different</td>\n      <td>True</td>\n      <td>46</td>\n      <td>5000</td>\n    </tr>\n    <tr>\n      <th>162</th>\n      <td>826</td>\n      <td>3996</td>\n      <td>2</td>\n      <td>PSStringComparison</td>\n      <td>hard</td>\n      <td>NaN</td>\n      <td>different</td>\n      <td>False</td>\n      <td>46</td>\n      <td>5000</td>\n    </tr>\n    <tr>\n      <th>163</th>\n      <td>833</td>\n      <td>1076</td>\n      <td>0</td>\n      <td>PSStringComparison</td>\n      <td>hard</td>\n      <td>same</td>\n      <td>same</td>\n      <td>True</td>\n      <td>58</td>\n      <td>5000</td>\n    </tr>\n    <tr>\n      <th>164</th>\n      <td>833</td>\n      <td>1032</td>\n      <td>1</td>\n      <td>PSStringComparison</td>\n      <td>hard</td>\n      <td>different</td>\n      <td>different</td>\n      <td>True</td>\n      <td>58</td>\n      <td>5000</td>\n    </tr>\n    <tr>\n      <th>165</th>\n      <td>833</td>\n      <td>2352</td>\n      <td>2</td>\n      <td>PSStringComparison</td>\n      <td>hard</td>\n      <td>same</td>\n      <td>different</td>\n      <td>False</td>\n      <td>58</td>\n      <td>5000</td>\n    </tr>\n    <tr>\n      <th>166</th>\n      <td>841</td>\n      <td>1525</td>\n      <td>0</td>\n      <td>PSStringComparison</td>\n      <td>hard</td>\n      <td>different</td>\n      <td>different</td>\n      <td>True</td>\n      <td>54</td>\n      <td>5000</td>\n    </tr>\n    <tr>\n      <th>167</th>\n      <td>841</td>\n      <td>1010</td>\n      <td>1</td>\n      <td>PSStringComparison</td>\n      <td>hard</td>\n      <td>same</td>\n      <td>same</td>\n      <td>True</td>\n      <td>54</td>\n      <td>5000</td>\n    </tr>\n    <tr>\n      <th>168</th>\n      <td>841</td>\n      <td>2852</td>\n      <td>2</td>\n      <td>PSStringComparison</td>\n      <td>hard</td>\n      <td>different</td>\n      <td>different</td>\n      <td>True</td>\n      <td>54</td>\n      <td>5000</td>\n    </tr>\n  </tbody>\n</table>\n</div>"
     },
     "metadata": {},
     "execution_count": 118
    }
   ],
   "source": [
    "newpssc[~newpssc.index.duplicated()]"
   ]
  },
  {
   "cell_type": "code",
   "execution_count": 116,
   "metadata": {},
   "outputs": [
    {
     "output_type": "execute_result",
     "data": {
      "text/plain": [
       "      item  reaction_time  trial                type     block   response  \\\n",
       "141  PSSCP           1755      0  PSStringComparison  practice  different   \n",
       "142    801            869      0  PSStringComparison      easy       same   \n",
       "143    801           1502      1  PSStringComparison      easy       same   \n",
       "144    801           2191      2  PSStringComparison      easy  different   \n",
       "145    809           1216      0  PSStringComparison      easy  different   \n",
       "146    809           2006      1  PSStringComparison      easy  different   \n",
       "147    809           2907      2  PSStringComparison      easy       same   \n",
       "148    825           2271      0  PSStringComparison      easy  different   \n",
       "149    825           3865      1  PSStringComparison      easy       same   \n",
       "150    825           4980      2  PSStringComparison      easy  different   \n",
       "151    810           1429      0  PSStringComparison    medium       same   \n",
       "152    810           3270      1  PSStringComparison    medium  different   \n",
       "153    810           4705      2  PSStringComparison    medium  different   \n",
       "154    817           1017      0  PSStringComparison    medium  different   \n",
       "155    817           2230      1  PSStringComparison    medium       same   \n",
       "156    817           3034      2  PSStringComparison    medium  different   \n",
       "157    834           1726      0  PSStringComparison    medium  different   \n",
       "158    834           3141      1  PSStringComparison    medium  different   \n",
       "159    834           4632      2  PSStringComparison    medium       same   \n",
       "160    826           2445      0  PSStringComparison      hard  different   \n",
       "161    826           3449      1  PSStringComparison      hard  different   \n",
       "162    826              0      2  PSStringComparison      hard        NaN   \n",
       "163    833           1076      0  PSStringComparison      hard       same   \n",
       "164    833           2108      1  PSStringComparison      hard  different   \n",
       "165    833           3384      2  PSStringComparison      hard       same   \n",
       "166    841           1525      0  PSStringComparison      hard  different   \n",
       "167    841           2535      1  PSStringComparison      hard       same   \n",
       "168    841           3862      2  PSStringComparison      hard  different   \n",
       "\n",
       "        answer  score  ordering  \n",
       "141  different   True         3  \n",
       "142       same   True        23  \n",
       "143       same   True        23  \n",
       "144  different   True        23  \n",
       "145  different   True        20  \n",
       "146  different   True        20  \n",
       "147       same   True        20  \n",
       "148       same  False        10  \n",
       "149       same   True        10  \n",
       "150  different   True        10  \n",
       "151       same   True        31  \n",
       "152  different   True        31  \n",
       "153  different   True        31  \n",
       "154  different   True        36  \n",
       "155       same   True        36  \n",
       "156  different   True        36  \n",
       "157  different   True        35  \n",
       "158  different   True        35  \n",
       "159       same   True        35  \n",
       "160  different   True        46  \n",
       "161  different   True        46  \n",
       "162  different  False        46  \n",
       "163       same   True        58  \n",
       "164  different   True        58  \n",
       "165  different  False        58  \n",
       "166  different   True        54  \n",
       "167       same   True        54  \n",
       "168  different   True        54  "
      ],
      "text/html": "<div>\n<style scoped>\n    .dataframe tbody tr th:only-of-type {\n        vertical-align: middle;\n    }\n\n    .dataframe tbody tr th {\n        vertical-align: top;\n    }\n\n    .dataframe thead th {\n        text-align: right;\n    }\n</style>\n<table border=\"1\" class=\"dataframe\">\n  <thead>\n    <tr style=\"text-align: right;\">\n      <th></th>\n      <th>item</th>\n      <th>reaction_time</th>\n      <th>trial</th>\n      <th>type</th>\n      <th>block</th>\n      <th>response</th>\n      <th>answer</th>\n      <th>score</th>\n      <th>ordering</th>\n    </tr>\n  </thead>\n  <tbody>\n    <tr>\n      <th>141</th>\n      <td>PSSCP</td>\n      <td>1755</td>\n      <td>0</td>\n      <td>PSStringComparison</td>\n      <td>practice</td>\n      <td>different</td>\n      <td>different</td>\n      <td>True</td>\n      <td>3</td>\n    </tr>\n    <tr>\n      <th>142</th>\n      <td>801</td>\n      <td>869</td>\n      <td>0</td>\n      <td>PSStringComparison</td>\n      <td>easy</td>\n      <td>same</td>\n      <td>same</td>\n      <td>True</td>\n      <td>23</td>\n    </tr>\n    <tr>\n      <th>143</th>\n      <td>801</td>\n      <td>1502</td>\n      <td>1</td>\n      <td>PSStringComparison</td>\n      <td>easy</td>\n      <td>same</td>\n      <td>same</td>\n      <td>True</td>\n      <td>23</td>\n    </tr>\n    <tr>\n      <th>144</th>\n      <td>801</td>\n      <td>2191</td>\n      <td>2</td>\n      <td>PSStringComparison</td>\n      <td>easy</td>\n      <td>different</td>\n      <td>different</td>\n      <td>True</td>\n      <td>23</td>\n    </tr>\n    <tr>\n      <th>145</th>\n      <td>809</td>\n      <td>1216</td>\n      <td>0</td>\n      <td>PSStringComparison</td>\n      <td>easy</td>\n      <td>different</td>\n      <td>different</td>\n      <td>True</td>\n      <td>20</td>\n    </tr>\n    <tr>\n      <th>146</th>\n      <td>809</td>\n      <td>2006</td>\n      <td>1</td>\n      <td>PSStringComparison</td>\n      <td>easy</td>\n      <td>different</td>\n      <td>different</td>\n      <td>True</td>\n      <td>20</td>\n    </tr>\n    <tr>\n      <th>147</th>\n      <td>809</td>\n      <td>2907</td>\n      <td>2</td>\n      <td>PSStringComparison</td>\n      <td>easy</td>\n      <td>same</td>\n      <td>same</td>\n      <td>True</td>\n      <td>20</td>\n    </tr>\n    <tr>\n      <th>148</th>\n      <td>825</td>\n      <td>2271</td>\n      <td>0</td>\n      <td>PSStringComparison</td>\n      <td>easy</td>\n      <td>different</td>\n      <td>same</td>\n      <td>False</td>\n      <td>10</td>\n    </tr>\n    <tr>\n      <th>149</th>\n      <td>825</td>\n      <td>3865</td>\n      <td>1</td>\n      <td>PSStringComparison</td>\n      <td>easy</td>\n      <td>same</td>\n      <td>same</td>\n      <td>True</td>\n      <td>10</td>\n    </tr>\n    <tr>\n      <th>150</th>\n      <td>825</td>\n      <td>4980</td>\n      <td>2</td>\n      <td>PSStringComparison</td>\n      <td>easy</td>\n      <td>different</td>\n      <td>different</td>\n      <td>True</td>\n      <td>10</td>\n    </tr>\n    <tr>\n      <th>151</th>\n      <td>810</td>\n      <td>1429</td>\n      <td>0</td>\n      <td>PSStringComparison</td>\n      <td>medium</td>\n      <td>same</td>\n      <td>same</td>\n      <td>True</td>\n      <td>31</td>\n    </tr>\n    <tr>\n      <th>152</th>\n      <td>810</td>\n      <td>3270</td>\n      <td>1</td>\n      <td>PSStringComparison</td>\n      <td>medium</td>\n      <td>different</td>\n      <td>different</td>\n      <td>True</td>\n      <td>31</td>\n    </tr>\n    <tr>\n      <th>153</th>\n      <td>810</td>\n      <td>4705</td>\n      <td>2</td>\n      <td>PSStringComparison</td>\n      <td>medium</td>\n      <td>different</td>\n      <td>different</td>\n      <td>True</td>\n      <td>31</td>\n    </tr>\n    <tr>\n      <th>154</th>\n      <td>817</td>\n      <td>1017</td>\n      <td>0</td>\n      <td>PSStringComparison</td>\n      <td>medium</td>\n      <td>different</td>\n      <td>different</td>\n      <td>True</td>\n      <td>36</td>\n    </tr>\n    <tr>\n      <th>155</th>\n      <td>817</td>\n      <td>2230</td>\n      <td>1</td>\n      <td>PSStringComparison</td>\n      <td>medium</td>\n      <td>same</td>\n      <td>same</td>\n      <td>True</td>\n      <td>36</td>\n    </tr>\n    <tr>\n      <th>156</th>\n      <td>817</td>\n      <td>3034</td>\n      <td>2</td>\n      <td>PSStringComparison</td>\n      <td>medium</td>\n      <td>different</td>\n      <td>different</td>\n      <td>True</td>\n      <td>36</td>\n    </tr>\n    <tr>\n      <th>157</th>\n      <td>834</td>\n      <td>1726</td>\n      <td>0</td>\n      <td>PSStringComparison</td>\n      <td>medium</td>\n      <td>different</td>\n      <td>different</td>\n      <td>True</td>\n      <td>35</td>\n    </tr>\n    <tr>\n      <th>158</th>\n      <td>834</td>\n      <td>3141</td>\n      <td>1</td>\n      <td>PSStringComparison</td>\n      <td>medium</td>\n      <td>different</td>\n      <td>different</td>\n      <td>True</td>\n      <td>35</td>\n    </tr>\n    <tr>\n      <th>159</th>\n      <td>834</td>\n      <td>4632</td>\n      <td>2</td>\n      <td>PSStringComparison</td>\n      <td>medium</td>\n      <td>same</td>\n      <td>same</td>\n      <td>True</td>\n      <td>35</td>\n    </tr>\n    <tr>\n      <th>160</th>\n      <td>826</td>\n      <td>2445</td>\n      <td>0</td>\n      <td>PSStringComparison</td>\n      <td>hard</td>\n      <td>different</td>\n      <td>different</td>\n      <td>True</td>\n      <td>46</td>\n    </tr>\n    <tr>\n      <th>161</th>\n      <td>826</td>\n      <td>3449</td>\n      <td>1</td>\n      <td>PSStringComparison</td>\n      <td>hard</td>\n      <td>different</td>\n      <td>different</td>\n      <td>True</td>\n      <td>46</td>\n    </tr>\n    <tr>\n      <th>162</th>\n      <td>826</td>\n      <td>0</td>\n      <td>2</td>\n      <td>PSStringComparison</td>\n      <td>hard</td>\n      <td>NaN</td>\n      <td>different</td>\n      <td>False</td>\n      <td>46</td>\n    </tr>\n    <tr>\n      <th>163</th>\n      <td>833</td>\n      <td>1076</td>\n      <td>0</td>\n      <td>PSStringComparison</td>\n      <td>hard</td>\n      <td>same</td>\n      <td>same</td>\n      <td>True</td>\n      <td>58</td>\n    </tr>\n    <tr>\n      <th>164</th>\n      <td>833</td>\n      <td>2108</td>\n      <td>1</td>\n      <td>PSStringComparison</td>\n      <td>hard</td>\n      <td>different</td>\n      <td>different</td>\n      <td>True</td>\n      <td>58</td>\n    </tr>\n    <tr>\n      <th>165</th>\n      <td>833</td>\n      <td>3384</td>\n      <td>2</td>\n      <td>PSStringComparison</td>\n      <td>hard</td>\n      <td>same</td>\n      <td>different</td>\n      <td>False</td>\n      <td>58</td>\n    </tr>\n    <tr>\n      <th>166</th>\n      <td>841</td>\n      <td>1525</td>\n      <td>0</td>\n      <td>PSStringComparison</td>\n      <td>hard</td>\n      <td>different</td>\n      <td>different</td>\n      <td>True</td>\n      <td>54</td>\n    </tr>\n    <tr>\n      <th>167</th>\n      <td>841</td>\n      <td>2535</td>\n      <td>1</td>\n      <td>PSStringComparison</td>\n      <td>hard</td>\n      <td>same</td>\n      <td>same</td>\n      <td>True</td>\n      <td>54</td>\n    </tr>\n    <tr>\n      <th>168</th>\n      <td>841</td>\n      <td>3862</td>\n      <td>2</td>\n      <td>PSStringComparison</td>\n      <td>hard</td>\n      <td>different</td>\n      <td>different</td>\n      <td>True</td>\n      <td>54</td>\n    </tr>\n  </tbody>\n</table>\n</div>"
     },
     "metadata": {},
     "execution_count": 116
    }
   ],
   "source": [
    "csv[csv.type == 'PSStringComparison']"
   ]
  },
  {
   "cell_type": "code",
   "execution_count": null,
   "metadata": {},
   "outputs": [],
   "source": []
  }
 ]
}